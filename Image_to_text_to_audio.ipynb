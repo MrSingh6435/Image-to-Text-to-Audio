{
  "nbformat": 4,
  "nbformat_minor": 0,
  "metadata": {
    "colab": {
      "provenance": [],
      "include_colab_link": true
    },
    "kernelspec": {
      "name": "python3",
      "display_name": "Python 3"
    },
    "language_info": {
      "name": "python"
    }
  },
  "cells": [
    {
      "cell_type": "markdown",
      "metadata": {
        "id": "view-in-github",
        "colab_type": "text"
      },
      "source": [
        "<a href=\"https://colab.research.google.com/github/MrSingh6435/Image-to-Text-to-Audio/blob/main/Image_to_text_to_audio.ipynb\" target=\"_parent\"><img src=\"https://colab.research.google.com/assets/colab-badge.svg\" alt=\"Open In Colab\"/></a>"
      ]
    },
    {
      "cell_type": "code",
      "source": [
        "!sudo apt install tesseract-ocr\n",
        "!pip install pytesseract\n",
        "!pip install gTTS\n",
        "!pip install Pillow==9.0.0"
      ],
      "metadata": {
        "colab": {
          "base_uri": "https://localhost:8080/"
        },
        "id": "s2eYBmwDWDAJ",
        "outputId": "f6310d71-aebc-4bcd-b263-4495fbe5dac6"
      },
      "execution_count": 1,
      "outputs": [
        {
          "output_type": "stream",
          "name": "stdout",
          "text": [
            "Reading package lists... Done\n",
            "Building dependency tree... Done\n",
            "Reading state information... Done\n",
            "tesseract-ocr is already the newest version (4.1.1-2.1build1).\n",
            "0 upgraded, 0 newly installed, 0 to remove and 45 not upgraded.\n",
            "Requirement already satisfied: pytesseract in /usr/local/lib/python3.10/dist-packages (0.3.10)\n",
            "Requirement already satisfied: packaging>=21.3 in /usr/local/lib/python3.10/dist-packages (from pytesseract) (24.1)\n",
            "Requirement already satisfied: Pillow>=8.0.0 in /usr/local/lib/python3.10/dist-packages (from pytesseract) (9.0.0)\n",
            "Requirement already satisfied: gTTS in /usr/local/lib/python3.10/dist-packages (2.5.1)\n",
            "Requirement already satisfied: requests<3,>=2.27 in /usr/local/lib/python3.10/dist-packages (from gTTS) (2.31.0)\n",
            "Requirement already satisfied: click<8.2,>=7.1 in /usr/local/lib/python3.10/dist-packages (from gTTS) (8.1.7)\n",
            "Requirement already satisfied: charset-normalizer<4,>=2 in /usr/local/lib/python3.10/dist-packages (from requests<3,>=2.27->gTTS) (3.3.2)\n",
            "Requirement already satisfied: idna<4,>=2.5 in /usr/local/lib/python3.10/dist-packages (from requests<3,>=2.27->gTTS) (3.7)\n",
            "Requirement already satisfied: urllib3<3,>=1.21.1 in /usr/local/lib/python3.10/dist-packages (from requests<3,>=2.27->gTTS) (2.0.7)\n",
            "Requirement already satisfied: certifi>=2017.4.17 in /usr/local/lib/python3.10/dist-packages (from requests<3,>=2.27->gTTS) (2024.6.2)\n",
            "Requirement already satisfied: Pillow==9.0.0 in /usr/local/lib/python3.10/dist-packages (9.0.0)\n"
          ]
        }
      ]
    },
    {
      "cell_type": "code",
      "execution_count": 2,
      "metadata": {
        "id": "DwgN11GcUIvf"
      },
      "outputs": [],
      "source": [
        "import pytesseract\n",
        "from PIL import Image\n",
        "import gtts"
      ]
    },
    {
      "cell_type": "code",
      "source": [
        "img = Image.open('/content/Screenshot 2024-06-17 095928.png')\n",
        "print(img)"
      ],
      "metadata": {
        "colab": {
          "base_uri": "https://localhost:8080/"
        },
        "id": "UCVJlIoWUaO0",
        "outputId": "e1430f88-9006-41ca-9459-15c8c102299c"
      },
      "execution_count": 6,
      "outputs": [
        {
          "output_type": "stream",
          "name": "stdout",
          "text": [
            "<PIL.PngImagePlugin.PngImageFile image mode=RGBA size=1053x582 at 0x7F6FE0C2A320>\n"
          ]
        }
      ]
    },
    {
      "cell_type": "code",
      "source": [
        "result = pytesseract.image_to_string(img)\n",
        "print(result)\n",
        "tts = gtts.gTTS(result)\n",
        "tts.save(\"hello.mp3\")"
      ],
      "metadata": {
        "colab": {
          "base_uri": "https://localhost:8080/"
        },
        "id": "YlcdrEN5Uw6-",
        "outputId": "66e594b6-def9-444a-a99f-85a0fe99f630"
      },
      "execution_count": 7,
      "outputs": [
        {
          "output_type": "stream",
          "name": "stdout",
          "text": [
            "Day 5 | 1/ June 2024 | Mini Projects\n",
            "\n",
            " \n",
            "\n",
            " \n",
            "\n",
            "* Topic of the Day\n",
            "© Mini Projects | Mr. Raghav Garg\n",
            "\n",
            "Mini Project-10: Image to Text to Audio | Click Here | Submission Link\n",
            "\n",
            "Mini Project-11: Web crawler (Email Scraper) | Click Here | Submission Link\n",
            "\n",
            "Mini Project-12: Audio to Text | Click Here | Submission Link\n",
            "\n",
            "Mini Project-13: PDF Splitter | Click Here | Submission Link\n",
            "\n",
            "Mini Project-14: PDF Merger (Assignment) | Click Here | Submission Link\n",
            "\n",
            "Mini Project-15: Plagiarism Checker | Click Here | Submission Link\n",
            "\n",
            "Mini Project-16: QR Code Generator | Click Here | Submission Link\n",
            "\n",
            "Mini Project-17: Hangman Game | Click Here | Submission Link\n",
            "\n",
            " \n",
            "\n",
            " \n",
            "\n",
            "° Self Exam\n",
            "© To go Claude.ai or ChatGPT\n",
            "© Create 50 MCQs on last day topic and solve them.\n",
            "Example Prompt:\n",
            "(1) Create 10 meqs on Data Visualization using python with answers and explanation\n",
            "(2) Create 10 megs on Exploratory Data Analytics using python with answers and explanation\n",
            "\n",
            "+ Resource of the Day\n",
            "\f\n"
          ]
        }
      ]
    },
    {
      "cell_type": "markdown",
      "source": [
        "H.W : Write code to play this audio file in colab"
      ],
      "metadata": {
        "id": "XClKrViA1675"
      }
    }
  ]
}